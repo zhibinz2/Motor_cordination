{
 "cells": [
  {
   "cell_type": "code",
   "execution_count": 1,
   "metadata": {},
   "outputs": [],
   "source": [
    "import pickle\n",
    "import numpy as np\n",
    "import pandas as pd\n",
    "import matplotlib.pyplot as plt\n",
    "from scipy.io import loadmat\n",
    "import seaborn as sns\n",
    "import rqa_functions as rqa\n",
    "import os\n",
    "from scipy import stats"
   ]
  },
  {
   "cell_type": "code",
   "execution_count": 2,
   "metadata": {},
   "outputs": [
    {
     "name": "stdout",
     "output_type": "stream",
     "text": [
      "C:/Users\\zhouz\\GitHub\\Italo/correlation_distances\\dyad_20220713_distances.pkl\n"
     ]
    }
   ],
   "source": [
    "# Specify the directory where the files are located\n",
    "# directory_path = \"/data/Italo/correlation_distances\"\n",
    "directory_path = \"C:/Users\\zhouz\\GitHub\\Italo/correlation_distances\"\n",
    "\n",
    "# List all files and directories in the specified path\n",
    "all_items = os.listdir(directory_path)\n",
    "\n",
    "# Filter out files that start with \"dyad_20\"\n",
    "matching_files = [filename for filename in all_items if filename.startswith(\"dyad_20\")]\n",
    "\n",
    "# Optionally, get the full paths if needed\n",
    "full_paths = [os.path.join(directory_path, filename) for filename in matching_files]\n",
    "\n",
    "# Print the list of matching file paths\n",
    "for file_path in full_paths:\n",
    "    print(file_path)"
   ]
  },
  {
   "cell_type": "code",
   "execution_count": 3,
   "metadata": {},
   "outputs": [
    {
     "name": "stdout",
     "output_type": "stream",
     "text": [
      "['dyad_20220713_distances.pkl', 'test']\n"
     ]
    }
   ],
   "source": [
    "print(all_items)"
   ]
  },
  {
   "cell_type": "code",
   "execution_count": 4,
   "metadata": {},
   "outputs": [
    {
     "name": "stdout",
     "output_type": "stream",
     "text": [
      "['dyad_20220713_distances.pkl']\n"
     ]
    }
   ],
   "source": [
    "print(matching_files)"
   ]
  },
  {
   "cell_type": "code",
   "execution_count": 5,
   "metadata": {},
   "outputs": [
    {
     "name": "stdout",
     "output_type": "stream",
     "text": [
      "['C:/Users\\\\zhouz\\\\GitHub\\\\Italo/correlation_distances\\\\dyad_20220713_distances.pkl']\n"
     ]
    }
   ],
   "source": [
    "print(full_paths)"
   ]
  }
 ],
 "metadata": {
  "kernelspec": {
   "display_name": "base",
   "language": "python",
   "name": "python3"
  },
  "language_info": {
   "codemirror_mode": {
    "name": "ipython",
    "version": 3
   },
   "file_extension": ".py",
   "mimetype": "text/x-python",
   "name": "python",
   "nbconvert_exporter": "python",
   "pygments_lexer": "ipython3",
   "version": "3.10.11"
  }
 },
 "nbformat": 4,
 "nbformat_minor": 2
}
