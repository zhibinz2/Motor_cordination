{
 "cells": [
  {
   "cell_type": "code",
   "execution_count": 1,
   "metadata": {
    "vscode": {
     "languageId": "shellscript"
    }
   },
   "outputs": [],
   "source": [
    "import numpy as np\n",
    "from matplotlib import pyplot as plt\n",
    "from hdf5storage import loadmat,savemat\n",
    "import pandas as pd"
   ]
  },
  {
   "cell_type": "code",
   "execution_count": 2,
   "metadata": {
    "vscode": {
     "languageId": "shellscript"
    }
   },
   "outputs": [],
   "source": [
    "# /home/zhibinz2/Documents/GitHub/Motor_coordination_code/Fig7_networkx.ipynb\n",
    "# load('nx144.mat'); % 144x2x7x32\n",
    "outdict=loadmat('/home/zhibinz2/Documents/GitHub/Motor_coordination_code/nx144.mat')"
   ]
  },
  {
   "cell_type": "code",
   "execution_count": 3,
   "metadata": {
    "vscode": {
     "languageId": "shellscript"
    }
   },
   "outputs": [],
   "source": [
    "dg_ctr144       =outdict['dg_ctr144']          # 144x2x7x32\n",
    "efficiency144   =outdict['efficiency144']  # 144x2x7x32\n",
    "bw_ctr144       =outdict['bw_ctr144']"
   ]
  },
  {
   "cell_type": "code",
   "execution_count": 4,
   "metadata": {
    "vscode": {
     "languageId": "shellscript"
    }
   },
   "outputs": [
    {
     "data": {
      "text/plain": [
       "dict_keys(['L_lead_ind', 'L_lead_synch_ind', 'L_lead_synco_ind', 'Mutual_ind', 'Mutual_synch_ind', 'Mutual_synco_ind', 'R_lead_ind', 'R_lead_synch_ind', 'R_lead_synco_ind', 'Uncoupled_ind', 'Uncoupled_synch_ind', 'Uncoupled_synco_ind', 'condi4_ind', 'syn2_condi4_ind', 'syn_ind', 'synch_condi4_ind', 'synch_ind', 'synco_condi4_ind', 'synco_ind'])"
      ]
     },
     "execution_count": 4,
     "metadata": {},
     "output_type": "execute_result"
    }
   ],
   "source": [
    "indices=loadmat('/home/zhibinz2/Documents/GitHub/Motor_coordination_code/Indicies.mat')\n",
    "syn2_condi4_ind     = indices['syn2_condi4_ind']\n",
    "indices.keys()"
   ]
  },
  {
   "cell_type": "code",
   "execution_count": 6,
   "metadata": {
    "vscode": {
     "languageId": "shellscript"
    }
   },
   "outputs": [
    {
     "data": {
      "text/plain": [
       "[array([  3,   7,  11,  26,  28,  32,  50,  53,  56,  75,  78,  80,  96,\n",
       "        102, 106, 121, 125, 130]),\n",
       " 1]"
      ]
     },
     "execution_count": 6,
     "metadata": {},
     "output_type": "execute_result"
    }
   ],
   "source": [
    "#organize hurst exponents \n",
    "dgctr_ind_synch     = np.zeros(36)\n",
    "dgctr_lead_synch    = np.zeros(36)\n",
    "dgctr_follow_synch  = np.zeros(36)\n",
    "dgctr_mutual_synch  = np.zeros(36)\n",
    "dgctr_ind_synco     = np.zeros(36)\n",
    "dgctr_lead_synco    = np.zeros(36)\n",
    "dgctr_follow_synco  = np.zeros(36)\n",
    "dgctr_mutual_synco  = np.zeros(36)\n",
    "dgctr_ind_synch[0:18]       = dg_ctr144[indices['Uncoupled_synch_ind'],0]\n",
    "dgctr_ind_synch[18:36]      = dg_ctr144[indices['Uncoupled_synch_ind'],1]\n",
    "dgctr_lead_synch[0:18]      = dg_ctr144[indices['L_lead_synch_ind'],0]\n",
    "dgctr_lead_synch[18:36]     = dg_ctr144[indices['R_lead_synch_ind'],1]\n",
    "dgctr_follow_synch[0:18]    = dg_ctr144[indices['R_lead_synch_ind'],0]\n",
    "dgctr_follow_synch[18:36]   = dg_ctr144[indices['L_lead_synch_ind'],1]\n",
    "dgctr_mutual_synch[0:18]    = dg_ctr144[indices['Mutual_synch_ind'],0]\n",
    "dgctr_mutual_synch[18:36]   = dg_ctr144[indices['Mutual_synch_ind'],1]\n",
    "dgctr_ind_synco[0:18]       = dg_ctr144[indices['Uncoupled_synco_ind'],0]\n",
    "dgctr_ind_synco[18:36]      = dg_ctr144[indices['Uncoupled_synco_ind'],1]\n",
    "dgctr_lead_synco[0:18]      = dg_ctr144[indices['L_lead_synco_ind'],0]\n",
    "dgctr_lead_synco[18:36]     = dg_ctr144[indices['R_lead_synco_ind'],1]\n",
    "dgctr_follow_synco[0:18]    = dg_ctr144[indices['R_lead_synco_ind'],0]\n",
    "dgctr_follow_synco[18:36]   = dg_ctr144[indices['L_lead_synco_ind'],1]\n",
    "dgctr_mutual_synco[0:18]    = dg_ctr144[indices['Mutual_synco_ind'],0] \n",
    "dgctr_mutual_synco[18:36]   = dg_ctr144[indices['Mutual_synco_ind'],1]\n",
    "\n",
    "\n",
    "# organized into np\n",
    "H_synch=[H_ind_synch, H_lead_synch, H_follow_synch, H_mutual_synch]\n",
    "H_synco=[H_ind_synco, H_lead_synco, H_follow_synco, H_mutual_synco]\n",
    "H_syn=[H_synch, H_synco]"
   ]
  },
  {
   "cell_type": "code",
   "execution_count": 10,
   "metadata": {
    "vscode": {
     "languageId": "shellscript"
    }
   },
   "outputs": [
    {
     "data": {
      "text/plain": [
       "{'L_lead_ind': (array([  0,   5,  10,  12,  17,  22,  27,  31,  34,  39,  43,  46,  51,\n",
       "          52,  58,  63,  64,  70,  72,  77,  81,  84,  89,  93,  97, 100,\n",
       "         105, 109, 112, 117, 123, 126, 128, 135, 138, 140]),),\n",
       " 'L_lead_synch_ind': array([  0,   5,  10,  27,  31,  34,  51,  52,  58,  72,  77,  81,  97,\n",
       "        100, 105, 123, 126, 128]),\n",
       " 'L_lead_synco_ind': array([ 12,  17,  22,  39,  43,  46,  63,  64,  70,  84,  89,  93, 109,\n",
       "        112, 117, 135, 138, 140]),\n",
       " 'Mutual_ind': (array([  2,   6,   9,  14,  18,  21,  25,  30,  35,  37,  42,  47,  48,\n",
       "          55,  57,  60,  67,  69,  74,  79,  83,  86,  91,  95,  98, 103,\n",
       "         104, 110, 115, 116, 122, 127, 131, 134, 139, 143]),),\n",
       " 'Mutual_synch_ind': array([  2,   6,   9,  25,  30,  35,  48,  55,  57,  74,  79,  83,  98,\n",
       "        103, 104, 122, 127, 131]),\n",
       " 'Mutual_synco_ind': array([ 14,  18,  21,  37,  42,  47,  60,  67,  69,  86,  91,  95, 110,\n",
       "        115, 116, 134, 139, 143]),\n",
       " 'R_lead_ind': (array([  1,   4,   8,  13,  16,  20,  24,  29,  33,  36,  41,  45,  49,\n",
       "          54,  59,  61,  66,  71,  73,  76,  82,  85,  88,  94,  99, 101,\n",
       "         107, 111, 113, 119, 120, 124, 129, 132, 136, 141]),),\n",
       " 'R_lead_synch_ind': array([  1,   4,   8,  24,  29,  33,  49,  54,  59,  73,  76,  82,  99,\n",
       "        101, 107, 120, 124, 129]),\n",
       " 'R_lead_synco_ind': array([ 13,  16,  20,  36,  41,  45,  61,  66,  71,  85,  88,  94, 111,\n",
       "        113, 119, 132, 136, 141]),\n",
       " 'Uncoupled_ind': (array([  3,   7,  11,  15,  19,  23,  26,  28,  32,  38,  40,  44,  50,\n",
       "          53,  56,  62,  65,  68,  75,  78,  80,  87,  90,  92,  96, 102,\n",
       "         106, 108, 114, 118, 121, 125, 130, 133, 137, 142]),),\n",
       " 'Uncoupled_synch_ind': array([  3,   7,  11,  26,  28,  32,  50,  53,  56,  75,  78,  80,  96,\n",
       "        102, 106, 121, 125, 130]),\n",
       " 'Uncoupled_synco_ind': array([ 15,  19,  23,  38,  40,  44,  62,  65,  68,  87,  90,  92, 108,\n",
       "        114, 118, 133, 137, 142]),\n",
       " 'condi4_ind': [(array([  3,   7,  11,  15,  19,  23,  26,  28,  32,  38,  40,  44,  50,\n",
       "           53,  56,  62,  65,  68,  75,  78,  80,  87,  90,  92,  96, 102,\n",
       "          106, 108, 114, 118, 121, 125, 130, 133, 137, 142]),),\n",
       "  (array([  0,   5,  10,  12,  17,  22,  27,  31,  34,  39,  43,  46,  51,\n",
       "           52,  58,  63,  64,  70,  72,  77,  81,  84,  89,  93,  97, 100,\n",
       "          105, 109, 112, 117, 123, 126, 128, 135, 138, 140]),),\n",
       "  (array([  1,   4,   8,  13,  16,  20,  24,  29,  33,  36,  41,  45,  49,\n",
       "           54,  59,  61,  66,  71,  73,  76,  82,  85,  88,  94,  99, 101,\n",
       "          107, 111, 113, 119, 120, 124, 129, 132, 136, 141]),),\n",
       "  (array([  2,   6,   9,  14,  18,  21,  25,  30,  35,  37,  42,  47,  48,\n",
       "           55,  57,  60,  67,  69,  74,  79,  83,  86,  91,  95,  98, 103,\n",
       "          104, 110, 115, 116, 122, 127, 131, 134, 139, 143]),)],\n",
       " 'syn2_condi4_ind': [[array([  3,   7,  11,  26,  28,  32,  50,  53,  56,  75,  78,  80,  96,\n",
       "          102, 106, 121, 125, 130]),\n",
       "   array([  0,   5,  10,  27,  31,  34,  51,  52,  58,  72,  77,  81,  97,\n",
       "          100, 105, 123, 126, 128]),\n",
       "   array([  1,   4,   8,  24,  29,  33,  49,  54,  59,  73,  76,  82,  99,\n",
       "          101, 107, 120, 124, 129]),\n",
       "   array([  2,   6,   9,  25,  30,  35,  48,  55,  57,  74,  79,  83,  98,\n",
       "          103, 104, 122, 127, 131])],\n",
       "  [array([ 15,  19,  23,  38,  40,  44,  62,  65,  68,  87,  90,  92, 108,\n",
       "          114, 118, 133, 137, 142]),\n",
       "   array([ 12,  17,  22,  39,  43,  46,  63,  64,  70,  84,  89,  93, 109,\n",
       "          112, 117, 135, 138, 140]),\n",
       "   array([ 13,  16,  20,  36,  41,  45,  61,  66,  71,  85,  88,  94, 111,\n",
       "          113, 119, 132, 136, 141]),\n",
       "   array([ 14,  18,  21,  37,  42,  47,  60,  67,  69,  86,  91,  95, 110,\n",
       "          115, 116, 134, 139, 143])]],\n",
       " 'syn_ind': [(array([  0,   1,   2,   3,   4,   5,   6,   7,   8,   9,  10,  11,  24,\n",
       "           25,  26,  27,  28,  29,  30,  31,  32,  33,  34,  35,  48,  49,\n",
       "           50,  51,  52,  53,  54,  55,  56,  57,  58,  59,  72,  73,  74,\n",
       "           75,  76,  77,  78,  79,  80,  81,  82,  83,  96,  97,  98,  99,\n",
       "          100, 101, 102, 103, 104, 105, 106, 107, 120, 121, 122, 123, 124,\n",
       "          125, 126, 127, 128, 129, 130, 131]),),\n",
       "  (array([ 12,  13,  14,  15,  16,  17,  18,  19,  20,  21,  22,  23,  36,\n",
       "           37,  38,  39,  40,  41,  42,  43,  44,  45,  46,  47,  60,  61,\n",
       "           62,  63,  64,  65,  66,  67,  68,  69,  70,  71,  84,  85,  86,\n",
       "           87,  88,  89,  90,  91,  92,  93,  94,  95, 108, 109, 110, 111,\n",
       "          112, 113, 114, 115, 116, 117, 118, 119, 132, 133, 134, 135, 136,\n",
       "          137, 138, 139, 140, 141, 142, 143]),)],\n",
       " 'synch_condi4_ind': [array([  3,   7,  11,  26,  28,  32,  50,  53,  56,  75,  78,  80,  96,\n",
       "         102, 106, 121, 125, 130]),\n",
       "  array([  0,   5,  10,  27,  31,  34,  51,  52,  58,  72,  77,  81,  97,\n",
       "         100, 105, 123, 126, 128]),\n",
       "  array([  1,   4,   8,  24,  29,  33,  49,  54,  59,  73,  76,  82,  99,\n",
       "         101, 107, 120, 124, 129]),\n",
       "  array([  2,   6,   9,  25,  30,  35,  48,  55,  57,  74,  79,  83,  98,\n",
       "         103, 104, 122, 127, 131])],\n",
       " 'synch_ind': (array([  0,   1,   2,   3,   4,   5,   6,   7,   8,   9,  10,  11,  24,\n",
       "          25,  26,  27,  28,  29,  30,  31,  32,  33,  34,  35,  48,  49,\n",
       "          50,  51,  52,  53,  54,  55,  56,  57,  58,  59,  72,  73,  74,\n",
       "          75,  76,  77,  78,  79,  80,  81,  82,  83,  96,  97,  98,  99,\n",
       "         100, 101, 102, 103, 104, 105, 106, 107, 120, 121, 122, 123, 124,\n",
       "         125, 126, 127, 128, 129, 130, 131]),),\n",
       " 'synco_condi4_ind': [array([ 15,  19,  23,  38,  40,  44,  62,  65,  68,  87,  90,  92, 108,\n",
       "         114, 118, 133, 137, 142]),\n",
       "  array([ 12,  17,  22,  39,  43,  46,  63,  64,  70,  84,  89,  93, 109,\n",
       "         112, 117, 135, 138, 140]),\n",
       "  array([ 13,  16,  20,  36,  41,  45,  61,  66,  71,  85,  88,  94, 111,\n",
       "         113, 119, 132, 136, 141]),\n",
       "  array([ 14,  18,  21,  37,  42,  47,  60,  67,  69,  86,  91,  95, 110,\n",
       "         115, 116, 134, 139, 143])],\n",
       " 'synco_ind': (array([ 12,  13,  14,  15,  16,  17,  18,  19,  20,  21,  22,  23,  36,\n",
       "          37,  38,  39,  40,  41,  42,  43,  44,  45,  46,  47,  60,  61,\n",
       "          62,  63,  64,  65,  66,  67,  68,  69,  70,  71,  84,  85,  86,\n",
       "          87,  88,  89,  90,  91,  92,  93,  94,  95, 108, 109, 110, 111,\n",
       "         112, 113, 114, 115, 116, 117, 118, 119, 132, 133, 134, 135, 136,\n",
       "         137, 138, 139, 140, 141, 142, 143]),)}"
      ]
     },
     "execution_count": 10,
     "metadata": {},
     "output_type": "execute_result"
    }
   ],
   "source": [
    "indices"
   ]
  },
  {
   "cell_type": "code",
   "execution_count": 5,
   "metadata": {
    "vscode": {
     "languageId": "shellscript"
    }
   },
   "outputs": [],
   "source": [
    "outdict=loadmat('/home/zhibinz2/Documents/GitHub/Motor_coordination_code/cc3_syn.mat')\n",
    "cc3_syn=outdict['cc3_syn'] # 3nx x 2 syn x 4 condi x36 tr x 7 freq x32 chan"
   ]
  },
  {
   "cell_type": "markdown",
   "metadata": {},
   "source": [
    "permutate 36condi+36independent"
   ]
  },
  {
   "cell_type": "code",
   "execution_count": 11,
   "metadata": {
    "vscode": {
     "languageId": "shellscript"
    }
   },
   "outputs": [],
   "source": [
    "# permutation test reference: /home/zhibinz2/Documents/GitHub/STROKE_P61/lesion_mask_on_L_p61_20240427/networkx/new_simu/permutation20241126.ipynb\n",
    "nx3gain10   =np.zeros((3,2,3,7,32)) # 3nx x 2syn x 3contrast condi x7freq x32chan\n",
    "nx3gain01   =np.zeros((3,2,3,7,32))\n",
    "nx3counter10=np.zeros((3,2,3,7,32))\n",
    "nx3counter01=np.zeros((3,2,3,7,32))"
   ]
  },
  {
   "cell_type": "code",
   "execution_count": null,
   "metadata": {
    "vscode": {
     "languageId": "shellscript"
    }
   },
   "outputs": [],
   "source": [
    "rng = np.random.default_rng(seed =300)\n",
    "for nx in range(3):\n",
    "    for syn in range(2):\n",
    "        for contrast_condi in range(1,4):\n",
    "            for freq in range(7):\n",
    "                print(freq)\n",
    "                for chan in range(32):\n",
    "                    nx3gain10[nx,syn,contrast_condi-1,freq,chan]=\\\n",
    "                        np.mean(cc3_syn[nx,syn,contrast_condi,:,freq,chan])/np.mean(cc3_syn[nx,syn,0,:,freq,chan])\n",
    "                    nx3gain01[nx,syn,contrast_condi-1,freq,chan]=\\\n",
    "                        np.mean(cc3_syn[nx,syn,0,:,freq,chan])/np.mean(cc3_syn[nx,syn,contrast_condi,:,freq,chan]) # some trials get nan and inf\n",
    "                    sim10=np.zeros((100000,1))\n",
    "                    sim01=np.zeros((100000,1))\n",
    "                    for j in range(100000):\n",
    "                        combined_array = np.concatenate((cc3_syn[nx,syn,0,:,freq,chan], cc3_syn[nx,syn,contrast_condi,:,freq,chan]))\n",
    "                        permu_combined=rng.permutation(combined_array)\n",
    "                        sim10[j,:]=np.mean(permu_combined[36:72])/np.mean(permu_combined[0:36])\n",
    "                        sim01[j,:]=np.mean(permu_combined[0:36])/np.mean(permu_combined[36:72])\n",
    "                        nx3counter10[nx,syn,contrast_condi-1,freq,chan]=nx3counter10[nx,syn,contrast_condi-1,freq,chan]+\\\n",
    "                            (nx3gain10[nx,syn,contrast_condi-1,freq,chan] > sim10[j])\n",
    "                        nx3counter01[nx,syn,contrast_condi-1,freq,chan]=nx3counter01[nx,syn,contrast_condi-1,freq,chan]+\\\n",
    "                            (nx3gain01[nx,syn,contrast_condi-1,freq,chan] > sim01[j])\n",
    "# 215 minutes"
   ]
  },
  {
   "cell_type": "code",
   "execution_count": 66,
   "metadata": {
    "vscode": {
     "languageId": "shellscript"
    }
   },
   "outputs": [],
   "source": [
    "nx3permu=dict()\n",
    "nx3permu['nx3gain10']  =nx3gain10\n",
    "nx3permu['nx3gain01']  =nx3gain01\n",
    "nx3permu['nx3counter10']=nx3counter10\n",
    "nx3permu['nx3counter01']=nx3counter01\n",
    "savemat('nx3permu.mat',nx3permu)"
   ]
  },
  {
   "cell_type": "code",
   "execution_count": 83,
   "metadata": {
    "vscode": {
     "languageId": "shellscript"
    }
   },
   "outputs": [
    {
     "data": {
      "text/plain": [
       "[<matplotlib.lines.Line2D at 0x7f0b85673910>]"
      ]
     },
     "execution_count": 83,
     "metadata": {},
     "output_type": "execute_result"
    },
    {
     "data": {
      "image/png": "[encoded data removed]",
      "text/plain": [
       "<Figure size 640x480 with 1 Axes>"
      ]
     },
     "metadata": {},
     "output_type": "display_data"
    }
   ],
   "source": [
    "nx=2;syn=1;contrast_condi=1;freq=0;\n",
    "plt.bar(range(32),nx3counter10[nx,syn,contrast_condi-1,freq,:])\n",
    "sigroi = np.where(nx3counter10[nx,syn,contrast_condi-1,freq,:] > 95000)[0]\n",
    "nsig = len(sigroi)\n",
    "plt.plot(sigroi,100000*np.ones(nsig),'rd')"
   ]
  },
  {
   "cell_type": "code",
   "execution_count": 84,
   "metadata": {
    "vscode": {
     "languageId": "shellscript"
    }
   },
   "outputs": [
    {
     "data": {
      "text/plain": [
       "<matplotlib.lines.Line2D at 0x7f0b855dcac0>"
      ]
     },
     "execution_count": 84,
     "metadata": {},
     "output_type": "execute_result"
    },
    {
     "data": {
      "image/png": "[encoded data removed]",
      "text/plain": [
       "<Figure size 640x480 with 1 Axes>"
      ]
     },
     "metadata": {},
     "output_type": "display_data"
    }
   ],
   "source": [
    "nx=2;syn=1;contrast_condi=2;freq=6;j=100000-1;\n",
    "plt.bar(range(32),nx3gain10[nx,syn,contrast_condi-1,freq,:])\n",
    "plt.axhline(y=1, color='r', linestyle='-', linewidth=2)"
   ]
  },
  {
   "cell_type": "code",
   "execution_count": null,
   "metadata": {
    "vscode": {
     "languageId": "shellscript"
    }
   },
   "outputs": [],
   "source": [
    "# permutation test reference: /home/zhibinz2/Documents/GitHub/STROKE_P61/lesion_mask_on_L_p61_20240427/networkx/new_simu/permutation20241126.ipynb\n",
    "nx3gain10   =np.zeros((3,2,3,7,32)) # 3nx x 2syn x 3contrast condi x7freq x32chan\n",
    "nx3gain01   =np.zeros((3,2,3,7,32))\n",
    "nx3counter10=np.zeros((3,2,3,7,32))\n",
    "nx3counter01=np.zeros((3,2,3,7,32))\n",
    "\n",
    "rng = np.random.default_rng(seed =300)\n",
    "for nx in range(3):\n",
    "    for syn in range(2):\n",
    "        print(syn)\n",
    "        for contrast_condi in range(1,4):\n",
    "            for freq in range(7):\n",
    "                nx3gain10[nx,syn,contrast_condi-1,freq,:]=\\\n",
    "                    np.mean(cc3_syn[nx,syn,contrast_condi,:,freq,:],axis=0)/np.mean(cc3_syn[nx,syn,0,:,freq,:],axis=0)\n",
    "                nx3gain01[nx,syn,contrast_condi-1,freq,:]=\\\n",
    "                    np.mean(cc3_syn[nx,syn,0,:,freq,:],axis=0)/np.mean(cc3_syn[nx,syn,contrast_condi,:,freq,:],axis=0) # some trials get nan and inf\n",
    "                sim10=np.zeros((100000,32))\n",
    "                sim01=np.zeros((100000,32))\n",
    "                combined_mat=np.concatenate((cc3_syn[nx,syn,0,:,freq,:], cc3_syn[nx,syn,contrast_condi,:,freq,:]),axis=0)\n",
    "                for j in range(100000):\n",
    "                    shuffled_combined = np.random.permutation(combined_mat)\n",
    "                    sim10[j,:]=np.mean(shuffled_combined[36:72])/np.mean(shuffled_combined[0:36])\n",
    "                    sim01[j,:]=np.mean(shuffled_combined[0:36])/np.mean(shuffled_combined[36:72])\n",
    "                    nx3counter10[nx,syn,contrast_condi-1,freq,:]=nx3counter10[nx,syn,contrast_condi-1,freq,:]+\\\n",
    "                        (nx3gain10[nx,syn,contrast_condi-1,freq,:] > sim10[j,:])\n",
    "                    nx3counter01[nx,syn,contrast_condi-1,freq,:]=nx3counter01[nx,syn,contrast_condi-1,freq,:]+\\\n",
    "                        (nx3gain01[nx,syn,contrast_condi-1,freq,:] > sim01[j,:])\n",
    "# 9 minutes"
   ]
  },
  {
   "cell_type": "code",
   "execution_count": 115,
   "metadata": {
    "vscode": {
     "languageId": "shellscript"
    }
   },
   "outputs": [],
   "source": [
    "combined_mat=np.concatenate((cc3_syn[nx,syn,0,:,freq,:], cc3_syn[nx,syn,contrast_condi,:,freq,:]),axis=0)\n",
    "shuffled_combined = np.random.permutation(combined_mat)"
   ]
  },
  {
   "cell_type": "code",
   "execution_count": 21,
   "metadata": {
    "vscode": {
     "languageId": "shellscript"
    }
   },
   "outputs": [
    {
     "data": {
      "text/plain": [
       "array([1.02578996, 1.02578996, 1.02578996, 1.02578996, 1.02578996,\n",
       "       1.02578996, 1.02578996, 1.02578996, 1.02578996, 1.02578996,\n",
       "       1.02578996, 1.02578996, 1.02578996, 1.02578996, 1.02578996,\n",
       "       1.02578996, 1.02578996, 1.02578996, 1.02578996, 1.02578996,\n",
       "       1.02578996, 1.02578996, 1.02578996, 1.02578996, 1.02578996,\n",
       "       1.02578996, 1.02578996, 1.02578996, 1.02578996, 1.02578996,\n",
       "       1.02578996, 1.02578996])"
      ]
     },
     "execution_count": 21,
     "metadata": {},
     "output_type": "execute_result"
    }
   ],
   "source": [
    "sim10[50000,:]"
   ]
  },
  {
   "cell_type": "code",
   "execution_count": 20,
   "metadata": {
    "vscode": {
     "languageId": "shellscript"
    }
   },
   "outputs": [
    {
     "data": {
      "text/plain": [
       "<matplotlib.lines.Line2D at 0x7faeef596610>"
      ]
     },
     "execution_count": 20,
     "metadata": {},
     "output_type": "execute_result"
    },
    {
     "data": {
      "image/png": "[encoded data removed]",
      "text/plain": [
       "<Figure size 640x480 with 1 Axes>"
      ]
     },
     "metadata": {},
     "output_type": "display_data"
    }
   ],
   "source": [
    "nx=2;syn=1;contrast_condi=2;freq=6; j=50\n",
    "# j=100000-1;\n",
    "plt.bar(range(32),nx3gain10[nx,syn,contrast_condi-1,freq,:])\n",
    "plt.bar(range(32),sim10[j,:])\n",
    "plt.axhline(y=1, color='r', linestyle='-', linewidth=2)"
   ]
  },
  {
   "cell_type": "code",
   "execution_count": 25,
   "metadata": {
    "vscode": {
     "languageId": "shellscript"
    }
   },
   "outputs": [],
   "source": [
    "nx3permu2=dict()\n",
    "nx3permu2['nx3gain10']  =nx3gain10\n",
    "nx3permu2['nx3gain01']  =nx3gain01\n",
    "nx3permu2['nx3counter10']=nx3counter10\n",
    "nx3permu2['nx3counter01']=nx3counter01\n",
    "savemat('nx3permu2.mat',nx3permu2)"
   ]
  }
 ],
 "metadata": {
  "kernelspec": {
   "display_name": "eeg2",
   "language": "python",
   "name": "python3"
  },
  "language_info": {
   "codemirror_mode": {
    "name": "ipython",
    "version": 3
   },
   "file_extension": ".py",
   "mimetype": "text/x-python",
   "name": "python",
   "nbconvert_exporter": "python",
   "pygments_lexer": "ipython3",
   "version": "3.9.13"
  }
 },
 "nbformat": 4,
 "nbformat_minor": 2
}
