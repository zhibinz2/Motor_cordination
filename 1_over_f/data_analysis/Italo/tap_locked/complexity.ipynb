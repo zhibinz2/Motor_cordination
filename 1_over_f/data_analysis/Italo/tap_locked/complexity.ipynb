{
 "cells": [
  {
   "cell_type": "code",
   "execution_count": 2,
   "metadata": {},
   "outputs": [],
   "source": [
    "import os\n",
    "from scipy.io import loadmat\n",
    "import numpy as np\n",
    "import makefilter\n",
    "from scipy.signal import sosfiltfilt, hilbert\n",
    "from scipy.signal import savgol_filter\n",
    "import pickle\n",
    "from itertools import combinations"
   ]
  },
  {
   "cell_type": "code",
   "execution_count": 4,
   "metadata": {},
   "outputs": [],
   "source": [
    "def load_pickle_file(filename):\n",
    "    \"\"\"\n",
    "    Load a pickle file.\n",
    "\n",
    "    Parameters:\n",
    "    - filename (str): The path to the pickle file to be loaded.\n",
    "\n",
    "    Returns:\n",
    "    - The Python object loaded from the pickle file.\n",
    "    \"\"\"\n",
    "    try:\n",
    "        with open(filename, 'rb') as file:\n",
    "            data = pickle.load(file)\n",
    "            return data\n",
    "    except FileNotFoundError:\n",
    "        print(f\"Error: The file '{filename}' was not found.\")\n",
    "    except EOFError:\n",
    "        print(f\"Error: The file '{filename}' may be corrupted or empty.\")\n",
    "    except pickle.UnpicklingError:\n",
    "        print(f\"Error: The file '{filename}' could not be unpickled. It may not be a valid pickle file or may be corrupted.\")\n",
    "    except Exception as e:\n",
    "        print(f\"An unexpected error occurred: {e}\")\n",
    "        \n",
    "# session_clusterings = load_pickle_file('./clustering_data.pkl')"
   ]
  },
  {
   "cell_type": "code",
   "execution_count": 5,
   "metadata": {},
   "outputs": [],
   "source": [
    "file='/ssd/zhibin/1overf/Cleaned_sourcedata/cortical_source_data/taplocked/corr_matrices/dyad_20220713_matstack.pkl'\n",
    "data = load_pickle_file(file)"
   ]
  },
  {
   "cell_type": "code",
   "execution_count": 6,
   "metadata": {},
   "outputs": [
    {
     "data": {
      "text/plain": [
       "dict_keys(['subj1', 'subj2'])"
      ]
     },
     "execution_count": 6,
     "metadata": {},
     "output_type": "execute_result"
    }
   ],
   "source": [
    "data.keys()"
   ]
  },
  {
   "cell_type": "code",
   "execution_count": 8,
   "metadata": {},
   "outputs": [
    {
     "data": {
      "text/plain": [
       "dict_keys(['matrix', 'sizes'])"
      ]
     },
     "execution_count": 8,
     "metadata": {},
     "output_type": "execute_result"
    }
   ],
   "source": [
    "data['subj1'].keys()"
   ]
  },
  {
   "cell_type": "code",
   "execution_count": 11,
   "metadata": {},
   "outputs": [
    {
     "data": {
      "text/plain": [
       "(2268, 448, 448)"
      ]
     },
     "execution_count": 11,
     "metadata": {},
     "output_type": "execute_result"
    }
   ],
   "source": [
    "np.shape(data['subj1']['matrix'])"
   ]
  },
  {
   "cell_type": "code",
   "execution_count": 14,
   "metadata": {},
   "outputs": [
    {
     "data": {
      "text/plain": [
       "(2268, 448, 448)"
      ]
     },
     "execution_count": 14,
     "metadata": {},
     "output_type": "execute_result"
    }
   ],
   "source": [
    "np.shape(data['subj2']['matrix'])"
   ]
  },
  {
   "cell_type": "code",
   "execution_count": 12,
   "metadata": {},
   "outputs": [
    {
     "data": {
      "text/plain": [
       "[('20220713/subj1_tr_1.mat', 197),\n",
       " ('20220713/subj1_tr_2.mat', 198),\n",
       " ('20220713/subj1_tr_3.mat', 189),\n",
       " ('20220713/subj1_tr_4.mat', 153),\n",
       " ('20220713/subj1_tr_5.mat', 197),\n",
       " ('20220713/subj1_tr_6.mat', 196),\n",
       " ('20220713/subj1_tr_7.mat', 188),\n",
       " ('20220713/subj1_tr_8.mat', 189),\n",
       " ('20220713/subj1_tr_9.mat', 194),\n",
       " ('20220713/subj1_tr_10.mat', 187),\n",
       " ('20220713/subj1_tr_11.mat', 197),\n",
       " ('20220713/subj1_tr_12.mat', 183)]"
      ]
     },
     "execution_count": 12,
     "metadata": {},
     "output_type": "execute_result"
    }
   ],
   "source": [
    "data['subj1']['sizes']"
   ]
  },
  {
   "cell_type": "code",
   "execution_count": 13,
   "metadata": {},
   "outputs": [
    {
     "data": {
      "text/plain": [
       "[('20220713/subj2_tr_1.mat', 197),\n",
       " ('20220713/subj2_tr_2.mat', 198),\n",
       " ('20220713/subj2_tr_3.mat', 189),\n",
       " ('20220713/subj2_tr_4.mat', 153),\n",
       " ('20220713/subj2_tr_5.mat', 197),\n",
       " ('20220713/subj2_tr_6.mat', 196),\n",
       " ('20220713/subj2_tr_7.mat', 188),\n",
       " ('20220713/subj2_tr_8.mat', 189),\n",
       " ('20220713/subj2_tr_9.mat', 194),\n",
       " ('20220713/subj2_tr_10.mat', 187),\n",
       " ('20220713/subj2_tr_11.mat', 197),\n",
       " ('20220713/subj2_tr_12.mat', 183)]"
      ]
     },
     "execution_count": 13,
     "metadata": {},
     "output_type": "execute_result"
    }
   ],
   "source": [
    "data['subj2']['sizes']"
   ]
  },
  {
   "cell_type": "code",
   "execution_count": 15,
   "metadata": {},
   "outputs": [],
   "source": [
    "subj1sizes=data['subj1']['sizes'][]"
   ]
  },
  {
   "cell_type": "code",
   "execution_count": 18,
   "metadata": {},
   "outputs": [
    {
     "data": {
      "text/plain": [
       "197"
      ]
     },
     "execution_count": 18,
     "metadata": {},
     "output_type": "execute_result"
    }
   ],
   "source": [
    "data['subj1']['sizes'][0][1]"
   ]
  },
  {
   "cell_type": "code",
   "execution_count": 20,
   "metadata": {},
   "outputs": [
    {
     "data": {
      "text/plain": [
       "[197, 198, 189, 153, 197, 196, 188, 189, 194, 187, 197, 183]"
      ]
     },
     "execution_count": 20,
     "metadata": {},
     "output_type": "execute_result"
    }
   ],
   "source": [
    "tapnumbers = [sublist[1] for sublist in data['subj1']['sizes'] if len(sublist) > 1]\n",
    "tapnumbers"
   ]
  },
  {
   "cell_type": "code",
   "execution_count": 19,
   "metadata": {},
   "outputs": [],
   "source": [
    "from hdf5storage import savemat "
   ]
  },
  {
   "cell_type": "code",
   "execution_count": 23,
   "metadata": {},
   "outputs": [
    {
     "data": {
      "text/plain": [
       "array(['20220713/subj1_tr_1.mat', '20220713/subj1_tr_2.mat',\n",
       "       '20220713/subj1_tr_3.mat', '20220713/subj1_tr_4.mat',\n",
       "       '20220713/subj1_tr_5.mat', '20220713/subj1_tr_6.mat',\n",
       "       '20220713/subj1_tr_7.mat', '20220713/subj1_tr_8.mat',\n",
       "       '20220713/subj1_tr_9.mat', '20220713/subj1_tr_10.mat',\n",
       "       '20220713/subj1_tr_11.mat', '20220713/subj1_tr_12.mat'],\n",
       "      dtype=object)"
      ]
     },
     "execution_count": 23,
     "metadata": {},
     "output_type": "execute_result"
    }
   ],
   "source": [
    "# Convert the list to an object array (equivalent to MATLAB cell array)\n",
    "subj1filenames_cell_array = np.empty(len(data['subj1']['sizes']), dtype=object)\n",
    "# Fill the object array with the data\n",
    "for idx, arr in enumerate(data['subj1']['sizes']):\n",
    "    subj1filenames_cell_array[idx] = arr[0]\n",
    "# Save the object array (cell-like structure) to a .mat file\n",
    "# savemat('subj2fileseq.mat', {'cell_data': subj1filenames_cell_array}, format='7.3')\n",
    "\n",
    "subj1filenames_cell_array"
   ]
  },
  {
   "cell_type": "code",
   "execution_count": 24,
   "metadata": {},
   "outputs": [],
   "source": [
    "# Convert the list to an object array (equivalent to MATLAB cell array)\n",
    "subj2filenames_cell_array = np.empty(len(data['subj2']['sizes']), dtype=object)\n",
    "# Fill the object array with the data\n",
    "for idx, arr in enumerate(data['subj2']['sizes']):\n",
    "    subj2filenames_cell_array[idx] = arr[0]\n",
    "# Save the object array (cell-like structure) to a .mat file\n",
    "# savemat('subj2fileseq.mat', {'cell_data': subj2filenames_cell_array}, format='7.3')"
   ]
  },
  {
   "cell_type": "code",
   "execution_count": 25,
   "metadata": {},
   "outputs": [
    {
     "ename": "",
     "evalue": "",
     "output_type": "error",
     "traceback": [
      "\u001b[1;31mCannot execute code, session has been disposed. Please try restarting the Kernel."
     ]
    },
    {
     "ename": "",
     "evalue": "",
     "output_type": "error",
     "traceback": [
      "\u001b[1;31mThe Kernel crashed while executing code in the the current cell or a previous cell. Please review the code in the cell(s) to identify a possible cause of the failure. Click <a href='https://aka.ms/vscodeJupyterKernelCrash'>here</a> for more info. View Jupyter <a href='command:jupyter.viewOutput'>log</a> for further details."
     ]
    }
   ],
   "source": [
    "outdict=dict()\n",
    "outdict['subj1mat']=data['subj1']['matrix']\n",
    "outdict['subj2mat']=data['subj2']['matrix']\n",
    "outdict['subj1tapnum']=[sublist[1] for sublist in data['subj1']['sizes'] if len(sublist) > 1]\n",
    "outdict['subj2tapnum']=[sublist[1] for sublist in data['subj2']['sizes'] if len(sublist) > 1]\n",
    "outdict['subj1filenames_cell_array']=subj1filenames_cell_array\n",
    "outdict['subj2filenames_cell_array']=subj2filenames_cell_array\n",
    "savemat('/ssd/zhibin/1overf/Cleaned_sourcedata/cortical_source_data/taplocked/corr_matrices/subjfilename.mat',outdict,format='7.3')\n"
   ]
  }
 ],
 "metadata": {
  "kernelspec": {
   "display_name": "eeg",
   "language": "python",
   "name": "python3"
  },
  "language_info": {
   "codemirror_mode": {
    "name": "ipython",
    "version": 3
   },
   "file_extension": ".py",
   "mimetype": "text/x-python",
   "name": "python",
   "nbconvert_exporter": "python",
   "pygments_lexer": "ipython3",
   "version": "3.9.13"
  },
  "orig_nbformat": 4
 },
 "nbformat": 4,
 "nbformat_minor": 2
}
