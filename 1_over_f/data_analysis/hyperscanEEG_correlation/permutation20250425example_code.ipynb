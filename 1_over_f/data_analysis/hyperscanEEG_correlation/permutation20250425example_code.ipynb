{
 "cells": [
  {
   "cell_type": "code",
   "execution_count": 1,
   "metadata": {
    "vscode": {
     "languageId": "shellscript"
    }
   },
   "outputs": [],
   "source": [
    "import numpy as np\n",
    "from matplotlib import pyplot as plt\n",
    "from hdf5storage import loadmat,savemat\n",
    "import pandas as pd"
   ]
  },
  {
   "cell_type": "markdown",
   "metadata": {},
   "source": [
    "load networkx measurement outputs"
   ]
  },
  {
   "cell_type": "code",
   "execution_count": 2,
   "metadata": {
    "vscode": {
     "languageId": "shellscript"
    }
   },
   "outputs": [],
   "source": [
    "outdict=loadmat('cc3_syn.mat')\n",
    "cc3_syn=outdict['cc3_syn'] # 3nx x 2 syn x 4 condi x36 tr x 7 freq x 32 chan\n",
    "# 3nx means 3 different networkx measurements; 2syn means 2 task types (synch and synco); 4 condi means 4 conditions; "
   ]
  },
  {
   "cell_type": "markdown",
   "metadata": {},
   "source": [
    "permutate 36condi+36independent"
   ]
  },
  {
   "cell_type": "code",
   "execution_count": 3,
   "metadata": {
    "vscode": {
     "languageId": "shellscript"
    }
   },
   "outputs": [],
   "source": [
    "nx3gain10   =np.zeros((3,2,3,7,32)) # 3nx x 2syn x 3contrast condi x7freq x 32chan\n",
    "nx3gain01   =np.zeros((3,2,3,7,32))\n",
    "nx3counter10=np.zeros((3,2,3,7,32))\n",
    "nx3counter01=np.zeros((3,2,3,7,32))"
   ]
  },
  {
   "cell_type": "markdown",
   "metadata": {},
   "source": [
    "Code of the computation that produced current result of figure 6 in overleaf manuscript as of 5/2/2025\n"
   ]
  },
  {
   "cell_type": "code",
   "execution_count": null,
   "metadata": {
    "vscode": {
     "languageId": "shellscript"
    }
   },
   "outputs": [],
   "source": [
    "nx3gain10   =np.zeros((3,2,3,7,32)) # 3nx x 2syn x 3contrast condi x7freq x 32chan\n",
    "nx3gain01   =np.zeros((3,2,3,7,32))\n",
    "nx3counter10=np.zeros((3,2,3,7,32))\n",
    "nx3counter01=np.zeros((3,2,3,7,32))\n",
    "\n",
    "rng = np.random.default_rng(seed =300)\n",
    "for nx in range(3):\n",
    "    for syn in range(2):\n",
    "        print(syn)\n",
    "        for contrast_condi in range(1,4):\n",
    "            for freq in range(7):\n",
    "                nx3gain10[nx,syn,contrast_condi-1,freq,:]=\\\n",
    "                    np.mean(cc3_syn[nx,syn,contrast_condi,:,freq,:],axis=0)/np.mean(cc3_syn[nx,syn,0,:,freq,:],axis=0)\n",
    "                nx3gain01[nx,syn,contrast_condi-1,freq,:]=\\\n",
    "                    np.mean(cc3_syn[nx,syn,0,:,freq,:],axis=0)/np.mean(cc3_syn[nx,syn,contrast_condi,:,freq,:],axis=0) \n",
    "                sim10=np.zeros((100000,32))\n",
    "                sim01=np.zeros((100000,32))\n",
    "                combined_mat=np.concatenate((cc3_syn[nx,syn,0,:,freq,:], cc3_syn[nx,syn,contrast_condi,:,freq,:]),axis=0)\n",
    "                for j in range(100000):\n",
    "                    shuffled_combined = np.random.permutation(combined_mat)\n",
    "                    sim10[j,:]=np.mean(shuffled_combined[36:72])/np.mean(shuffled_combined[0:36]) # all same values,but kept this as final results\n",
    "                    sim01[j,:]=np.mean(shuffled_combined[0:36])/np.mean(shuffled_combined[36:72]) # this is equal to combine all channels and compute one ratio for each permuation instead for each channel separately\n",
    "                    nx3counter10[nx,syn,contrast_condi-1,freq,:]=nx3counter10[nx,syn,contrast_condi-1,freq,:]+\\\n",
    "                        (nx3gain10[nx,syn,contrast_condi-1,freq,:] > sim10[j,:]) # check which channels are higher than permuted all channel average\n",
    "                    nx3counter01[nx,syn,contrast_condi-1,freq,:]=nx3counter01[nx,syn,contrast_condi-1,freq,:]+\\\n",
    "                        (nx3gain01[nx,syn,contrast_condi-1,freq,:] > sim01[j,:])"
   ]
  },
  {
   "cell_type": "code",
   "execution_count": null,
   "metadata": {
    "vscode": {
     "languageId": "shellscript"
    }
   },
   "outputs": [],
   "source": [
    "nx3permu2=dict()\n",
    "nx3permu2['nx3gain10']  =nx3gain10\n",
    "nx3permu2['nx3gain01']  =nx3gain01\n",
    "nx3permu2['nx3counter10']=nx3counter10\n",
    "nx3permu2['nx3counter01']=nx3counter01\n",
    "savemat('nx3permu.mat',nx3permu2)"
   ]
  },
  {
   "cell_type": "markdown",
   "metadata": {},
   "source": [
    "Corrected on 4/30/2025 but much less significant channels (decided to move on with results above and included it in the overleaf manuscript as fig 6)"
   ]
  },
  {
   "cell_type": "code",
   "execution_count": null,
   "metadata": {
    "vscode": {
     "languageId": "shellscript"
    }
   },
   "outputs": [
    {
     "name": "stdout",
     "output_type": "stream",
     "text": [
      "0\n",
      "1\n",
      "0\n",
      "1\n",
      "0\n",
      "1\n"
     ]
    }
   ],
   "source": [
    "nx3gain10   =np.zeros((3,2,3,7,32)) \n",
    "nx3gain01   =np.zeros((3,2,3,7,32))\n",
    "nx3counter10=np.zeros((3,2,3,7,32))\n",
    "nx3counter01=np.zeros((3,2,3,7,32))\n",
    "\n",
    "rng = np.random.default_rng(seed =300)\n",
    "for nx in range(3):\n",
    "    for syn in range(2):\n",
    "        print(syn)\n",
    "        for contrast_condi in range(1,4):\n",
    "            for freq in range(7):\n",
    "                nx3gain10[nx,syn,contrast_condi-1,freq,:]=\\\n",
    "                    np.mean(cc3_syn[nx,syn,contrast_condi,:,freq,:],axis=0)/np.mean(cc3_syn[nx,syn,0,:,freq,:],axis=0)\n",
    "                nx3gain01[nx,syn,contrast_condi-1,freq,:]=\\\n",
    "                    np.mean(cc3_syn[nx,syn,0,:,freq,:],axis=0)/np.mean(cc3_syn[nx,syn,contrast_condi,:,freq,:],axis=0) \n",
    "                sim10=np.zeros((100000,32))\n",
    "                sim01=np.zeros((100000,32))\n",
    "                combined_mat=np.concatenate((cc3_syn[nx,syn,0,:,freq,:], cc3_syn[nx,syn,contrast_condi,:,freq,:]),axis=0)\n",
    "                for j in range(100000):\n",
    "                    shuffled_combined = np.random.permutation(combined_mat)\n",
    "                    sim10[j,:]=np.mean(shuffled_combined[36:72],axis=0)/np.mean(shuffled_combined[0:36],axis=0) # corrected on 4/30/2025\n",
    "                    sim01[j,:]=np.mean(shuffled_combined[0:36],axis=0)/np.mean(shuffled_combined[36:72],axis=0) # to do each channel separately\n",
    "                    nx3counter10[nx,syn,contrast_condi-1,freq,:]=nx3counter10[nx,syn,contrast_condi-1,freq,:]+\\\n",
    "                        (nx3gain10[nx,syn,contrast_condi-1,freq,:] > sim10[j,:])\n",
    "                    nx3counter01[nx,syn,contrast_condi-1,freq,:]=nx3counter01[nx,syn,contrast_condi-1,freq,:]+\\\n",
    "                        (nx3gain01[nx,syn,contrast_condi-1,freq,:] > sim01[j,:])\n",
    "# 9 minutes"
   ]
  },
  {
   "cell_type": "code",
   "execution_count": 80,
   "metadata": {
    "vscode": {
     "languageId": "shellscript"
    }
   },
   "outputs": [],
   "source": [
    "nx3permu2=dict()\n",
    "nx3permu2['nx3gain10']  =nx3gain10\n",
    "nx3permu2['nx3gain01']  =nx3gain01\n",
    "nx3permu2['nx3counter10']=nx3counter10\n",
    "nx3permu2['nx3counter01']=nx3counter01\n",
    "savemat('nx3permu2.mat',nx3permu2)"
   ]
  }
 ],
 "metadata": {
  "kernelspec": {
   "display_name": "eeg2",
   "language": "python",
   "name": "python3"
  },
  "language_info": {
   "codemirror_mode": {
    "name": "ipython",
    "version": 3
   },
   "file_extension": ".py",
   "mimetype": "text/x-python",
   "name": "python",
   "nbconvert_exporter": "python",
   "pygments_lexer": "ipython3",
   "version": "3.9.13"
  }
 },
 "nbformat": 4,
 "nbformat_minor": 2
}
